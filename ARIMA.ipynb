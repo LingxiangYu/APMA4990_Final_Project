{
 "cells": [
  {
   "cell_type": "code",
   "execution_count": 1,
   "metadata": {
    "collapsed": true
   },
   "outputs": [],
   "source": [
    "import pandas as pd\n",
    "import matplotlib.pyplot as plt\n",
    "import datetime\n",
    "from matplotlib.dates import DateFormatter, WeekdayLocator,\\\n",
    "    DayLocator, MONDAY\n",
    "from matplotlib.finance import quotes_historical_yahoo_ohlc, candlestick_ohlc\n",
    "import time\n",
    "import sys\n",
    "import numpy as np\n",
    "from statsmodels.tsa.arima_model import ARIMA\n",
    "from pandas.tseries.offsets import *\n",
    "import statsmodels.api as sm"
   ]
  },
  {
   "cell_type": "code",
   "execution_count": 2,
   "metadata": {
    "collapsed": true
   },
   "outputs": [],
   "source": [
    "def getdata():\n",
    "#get data from 5000days ago which got 3569 entries\n",
    "    date1 = time.strftime(\"%Y-%m-%d\").split('-');\n",
    "    date2 = datetime.datetime.now() - datetime.timedelta(days=5000)\n",
    "    date2 = date2.strftime(\"%Y-%m-%d\").split('-');\n",
    "    date1 = [int(i) for i in date1]\n",
    "    date2 = [int(i) for i in date2]\n",
    "    date1 = (date1[0],date1[1],date1[2]);\n",
    "    date2 = (date2[0],date2[1],date2[2]);\n",
    "    start = date2;\n",
    "    end = date1;\n",
    "    mondays = WeekdayLocator(MONDAY)        # major ticks on the mondays\n",
    "    alldays = DayLocator()              # minor ticks on the days\n",
    "    weekFormatter = DateFormatter('%b %d')  # e.g., Jan 12\n",
    "    dayFormatter = DateFormatter('%d')      # e.g., 12\n",
    "    try:\n",
    "        quotes = quotes_historical_yahoo_ohlc('CNY=X', start, end)\n",
    "        if len(quotes) == 0:\n",
    "            print(0);\n",
    "            raise SystemExit\n",
    "        data = list(quotes);\n",
    "        for i in range(0,len(data)):\n",
    "            data[i] = list(data[i]);\n",
    "            data[i][0] = datetime.datetime.fromordinal(int(data[i][0])).strftime('%Y-%m-%d');\n",
    "        return data\n",
    "    except:\n",
    "        print(0);\n",
    "        return 0;"
   ]
  },
  {
   "cell_type": "code",
   "execution_count": 3,
   "metadata": {
    "collapsed": true
   },
   "outputs": [],
   "source": [
    "def predict (steps):\n",
    "    #dateparse = lambda dates: pd.datetime.strptime(dates, '%m/%d/%y')\n",
    "    #data = pd.read_csv('rateData.csv', parse_dates=True, index_col='Date',date_parser=dateparse)\n",
    "    #ts = data['RMBperUSD']\n",
    "    #new_period = ts['2015-08-11':]\n",
    "    \n",
    "    data = getdata();\n",
    "    data = [[pd.datetime.strptime(x[0],'%Y-%m-%d')   ,x[4]]\\\n",
    "        for x in data]\n",
    "    col = ['date','RMBperUSD']\n",
    "    data = pd.DataFrame.from_records(data,columns=col,index = col[0]);\n",
    "    new_period = data['RMBperUSD']\n",
    "    \n",
    "    new_period_log = np.log(new_period)\n",
    "       \n",
    "    model = ARIMA(new_period_log, order=(2, 1, 2),freq='D')\n",
    "    results_ARIMA = model.fit(disp=-1)\n",
    "\n",
    "    predictions_ARIMA_diff = pd.Series(results_ARIMA.fittedvalues, copy=True)\n",
    "    startDate = new_period.index[-1]\n",
    "    endDate = new_period.index[-1] + Day(steps)\n",
    "    \n",
    "    ##dynamic_Sample_Prediction is error is future\n",
    "    dynamic_Sample_Prediction = results_ARIMA.predict(startDate.isoformat(), endDate.isoformat(), exog = None, dynamic = False)\n",
    "\n",
    "    ## dynamic_Sample_Prediction_log is error data with future error\n",
    "    dynamic_Sample_Prediction_log = dynamic_Sample_Prediction.add(predictions_ARIMA_diff,fill_value=0)\n",
    "\n",
    "    ## dynamic_Sample_Prediction_log_cumsum is cumulate sum of all errors\n",
    "    dynamic_Sample_Prediction_log_cumsum = dynamic_Sample_Prediction_log.cumsum()\n",
    "\n",
    "    ## expand 1.81094 to date + future date\n",
    "    dynamic_ARIMA_log = pd.Series(new_period_log.ix[0], index=dynamic_Sample_Prediction_log.index)\n",
    "\n",
    "    ## add 1.81094 to all cumsum respectively\n",
    "    dynamic_ARIMA_log = dynamic_ARIMA_log.add(dynamic_Sample_Prediction_log_cumsum,fill_value=0)\n",
    "\n",
    "    ## back to original data\n",
    "    dynamic_Sample_Prediction_ARIMA = np.exp(dynamic_ARIMA_log)\n",
    "\n",
    "    ##prediction data\n",
    "    predictResult = dynamic_Sample_Prediction_ARIMA[new_period.index[-1]:]\n",
    "    datelist = predictResult.index.tolist();\n",
    "    datelist = [time.strftime(\"%Y-%m-%d\",time.strptime(str(i),\"%Y-%m-%d %H:%M:%S\"))\\\n",
    "            for i in datelist]\n",
    "    ratelist = predictResult.values.tolist();\n",
    "    ans = []\n",
    "    for i in range(0,len(datelist)):\n",
    "        ans.append([datelist[i],ratelist[i]])\n",
    "    return ans"
   ]
  },
  {
   "cell_type": "code",
   "execution_count": 4,
   "metadata": {
    "collapsed": false
   },
   "outputs": [
    {
     "name": "stdout",
     "output_type": "stream",
     "text": [
      "0\n"
     ]
    }
   ],
   "source": [
    "ans = 0;\n",
    "try:\n",
    "    days = int(sys.argv[1])\n",
    "    ans = predict(days)\n",
    "except:\n",
    "    ans = 0;\n",
    "print(ans);"
   ]
  },
  {
   "cell_type": "code",
   "execution_count": 5,
   "metadata": {
    "collapsed": false
   },
   "outputs": [],
   "source": [
    "import math\n",
    "def accu (steps):\n",
    "\n",
    "\t\n",
    "\tdata = getdata();\n",
    "\tdata = [[pd.datetime.strptime(x[0],'%Y-%m-%d')   ,x[4]]\\\n",
    "\t\tfor x in data]\n",
    "\tcol = ['date','RMBperUSD']\n",
    "\tdata = pd.DataFrame.from_records(data,columns=col,index = col[0]);\n",
    "\tnew_period = data['RMBperUSD']\n",
    "\tnew_period_log = np.log(new_period)\n",
    "\t\n",
    "\t\n",
    "\n",
    "\t#define train data\n",
    "\tnew_period_train = new_period[:int(len(new_period_log)*0.8)]\n",
    "\ttrain = new_period_log[0:int(len(new_period_log)*0.8)]\n",
    "\n",
    "\ttrain_model = ARIMA(train, order=(2, 1, 2),freq='D')\n",
    "\ttrain_results_ARIMA = train_model.fit(disp=-1)\n",
    "\n",
    "\ttrain_predictions_ARIMA_diff = pd.Series(train_results_ARIMA.fittedvalues, copy=True)\n",
    "\tstartDate = new_period_train.index[-1]\n",
    "\tendDate = new_period_train.index[-1] + Day(steps)\n",
    "\n",
    "\ttrain_dynamic_Sample_Prediction = train_results_ARIMA.predict(startDate.isoformat(), endDate.isoformat(), exog = None, dynamic = False)\n",
    "\ttrain_dynamic_Sample_Prediction_log = train_dynamic_Sample_Prediction.add(train_predictions_ARIMA_diff,fill_value=0)\n",
    "\ttrain_dynamic_Sample_Prediction_log_cumsum = train_dynamic_Sample_Prediction_log.cumsum()\n",
    "\ttrain_dynamic_ARIMA_log = pd.Series(train.ix[0], index=train_dynamic_Sample_Prediction_log.index)\n",
    "\ttrain_dynamic_ARIMA_log = train_dynamic_ARIMA_log.add(train_dynamic_Sample_Prediction_log_cumsum,fill_value=0)\n",
    "\ttrain_dynamic_Sample_Prediction_ARIMA = np.exp(train_dynamic_ARIMA_log)\n",
    "\n",
    "\ttrain_predictResult = train_dynamic_Sample_Prediction_ARIMA[new_period_train.index[-1]:]\n",
    "\ttrain_datelist = train_predictResult.index.tolist();\n",
    "\n",
    "\ttrain_datelist = [time.strftime(\"%Y-%m-%d\",time.strptime(str(i),\"%Y-%m-%d %H:%M:%S\"))\\\n",
    "\t\t\tfor i in train_datelist]\n",
    " \n",
    "\ttrain_ratelist = train_predictResult.values.tolist()\n",
    "\n",
    "\ttrain_ans = []\n",
    "\tfor i in range(0,len(train_datelist)):\n",
    "\t\ttrain_ans.append([train_datelist[i],train_ratelist[i]])\n",
    "\n",
    "\t#define test data\n",
    "\ttest_data = data[int(len(data)*0.8):]\n",
    "\n",
    "\t#calculate rmse\n",
    "\tdiff = []\n",
    "\tfor i in range(1,steps+1):\n",
    "\t\tdiff.append((train_ans[i][1] - test_data.iloc[i-1]) ** 2)\n",
    "\t\n",
    "\trmse = math.sqrt(np.mean(diff))\n",
    "\n",
    "\treturn rmse"
   ]
  },
  {
   "cell_type": "code",
   "execution_count": 6,
   "metadata": {
    "collapsed": false
   },
   "outputs": [
    {
     "name": "stderr",
     "output_type": "stream",
     "text": [
      "/Users/lingxiangyu/anaconda/lib/python2.7/site-packages/statsmodels/base/model.py:466: ConvergenceWarning: Maximum Likelihood optimization failed to converge. Check mle_retvals\n",
      "  \"Check mle_retvals\", ConvergenceWarning)\n",
      "/Users/lingxiangyu/anaconda/lib/python2.7/site-packages/statsmodels/base/data.py:503: FutureWarning: TimeSeries is deprecated. Please use Series\n",
      "  return TimeSeries(result, index=self.predict_dates)\n"
     ]
    },
    {
     "data": {
      "text/plain": [
       "0.012641300030221226"
      ]
     },
     "execution_count": 6,
     "metadata": {},
     "output_type": "execute_result"
    }
   ],
   "source": [
    "accu(5)"
   ]
  },
  {
   "cell_type": "code",
   "execution_count": 7,
   "metadata": {
    "collapsed": false
   },
   "outputs": [
    {
     "data": {
      "text/plain": [
       "[['2017-04-26', 6.8646717155272885],\n",
       " ['2017-04-27', 6.847813818659736],\n",
       " ['2017-04-28', 6.850912662715539],\n",
       " ['2017-04-29', 6.850260027553502],\n",
       " ['2017-04-30', 6.8497946040967665],\n",
       " ['2017-05-01', 6.849497123904665]]"
      ]
     },
     "execution_count": 7,
     "metadata": {},
     "output_type": "execute_result"
    }
   ],
   "source": [
    "predict(5)"
   ]
  },
  {
   "cell_type": "code",
   "execution_count": 8,
   "metadata": {
    "collapsed": false
   },
   "outputs": [
    {
     "name": "stderr",
     "output_type": "stream",
     "text": [
      "/Users/lingxiangyu/anaconda/lib/python2.7/site-packages/statsmodels/base/model.py:466: ConvergenceWarning: Maximum Likelihood optimization failed to converge. Check mle_retvals\n",
      "  \"Check mle_retvals\", ConvergenceWarning)\n"
     ]
    },
    {
     "data": {
      "text/plain": [
       "0.020044455604420485"
      ]
     },
     "execution_count": 8,
     "metadata": {},
     "output_type": "execute_result"
    }
   ],
   "source": [
    "accu(10)"
   ]
  },
  {
   "cell_type": "code",
   "execution_count": 9,
   "metadata": {
    "collapsed": false
   },
   "outputs": [
    {
     "data": {
      "text/plain": [
       "[['2017-04-26', 6.8646717155272885],\n",
       " ['2017-04-27', 6.847813818659736],\n",
       " ['2017-04-28', 6.850912662715539],\n",
       " ['2017-04-29', 6.850260027553502],\n",
       " ['2017-04-30', 6.8497946040967665],\n",
       " ['2017-05-01', 6.849497123904665],\n",
       " ['2017-05-02', 6.849121863861703],\n",
       " ['2017-05-03', 6.848766294928698],\n",
       " ['2017-05-04', 6.848408042196151],\n",
       " ['2017-05-05', 6.848049601849873],\n",
       " ['2017-05-06', 6.847691434809505]]"
      ]
     },
     "execution_count": 9,
     "metadata": {},
     "output_type": "execute_result"
    }
   ],
   "source": [
    "predict(10)"
   ]
  },
  {
   "cell_type": "code",
   "execution_count": 10,
   "metadata": {
    "collapsed": false
   },
   "outputs": [
    {
     "name": "stderr",
     "output_type": "stream",
     "text": [
      "/Users/lingxiangyu/anaconda/lib/python2.7/site-packages/statsmodels/base/model.py:466: ConvergenceWarning: Maximum Likelihood optimization failed to converge. Check mle_retvals\n",
      "  \"Check mle_retvals\", ConvergenceWarning)\n"
     ]
    },
    {
     "data": {
      "text/plain": [
       "0.027066827648813848"
      ]
     },
     "execution_count": 10,
     "metadata": {},
     "output_type": "execute_result"
    }
   ],
   "source": [
    "accu(50)"
   ]
  },
  {
   "cell_type": "code",
   "execution_count": 11,
   "metadata": {
    "collapsed": false
   },
   "outputs": [
    {
     "data": {
      "text/plain": [
       "[['2017-04-26', 6.8646717155272885],\n",
       " ['2017-04-27', 6.847813818659736],\n",
       " ['2017-04-28', 6.850912662715539],\n",
       " ['2017-04-29', 6.850260027553502],\n",
       " ['2017-04-30', 6.8497946040967665],\n",
       " ['2017-05-01', 6.849497123904665],\n",
       " ['2017-05-02', 6.849121863861703],\n",
       " ['2017-05-03', 6.848766294928698],\n",
       " ['2017-05-04', 6.848408042196151],\n",
       " ['2017-05-05', 6.848049601849873],\n",
       " ['2017-05-06', 6.847691434809505],\n",
       " ['2017-05-07', 6.847333200080807],\n",
       " ['2017-05-08', 6.846975001573277],\n",
       " ['2017-05-09', 6.846616820514177],\n",
       " ['2017-05-10', 6.846258657573615],\n",
       " ['2017-05-11', 6.845900513694649],\n",
       " ['2017-05-12', 6.845542388463438],\n",
       " ['2017-05-13', 6.845184281979998],\n",
       " ['2017-05-14', 6.84482619423034],\n",
       " ['2017-05-15', 6.844468125212085],\n",
       " ['2017-05-16', 6.844110074925638],\n",
       " ['2017-05-17', 6.843752043369566],\n",
       " ['2017-05-18', 6.843394030542977],\n",
       " ['2017-05-19', 6.843036036444886],\n",
       " ['2017-05-20', 6.842678061074312],\n",
       " ['2017-05-21', 6.842320104430273],\n",
       " ['2017-05-22', 6.841962166511793],\n",
       " ['2017-05-23', 6.84160424731789],\n",
       " ['2017-05-24', 6.841246346847585],\n",
       " ['2017-05-25', 6.840888465099898],\n",
       " ['2017-05-26', 6.840530602073851],\n",
       " ['2017-05-27', 6.840172757768463],\n",
       " ['2017-05-28', 6.839814932182756],\n",
       " ['2017-05-29', 6.839457125315749],\n",
       " ['2017-05-30', 6.8390993371664655],\n",
       " ['2017-05-31', 6.838741567733924],\n",
       " ['2017-06-01', 6.838383817017147],\n",
       " ['2017-06-02', 6.838026085015152],\n",
       " ['2017-06-03', 6.8376683717269655],\n",
       " ['2017-06-04', 6.837310677151605],\n",
       " ['2017-06-05', 6.836953001288092],\n",
       " ['2017-06-06', 6.836595344135446],\n",
       " ['2017-06-07', 6.836237705692693],\n",
       " ['2017-06-08', 6.835880085958849],\n",
       " ['2017-06-09', 6.835522484932939],\n",
       " ['2017-06-10', 6.8351649026139825],\n",
       " ['2017-06-11', 6.834807339001001],\n",
       " ['2017-06-12', 6.8344497940930165],\n",
       " ['2017-06-13', 6.8340922678890506],\n",
       " ['2017-06-14', 6.833734760388124],\n",
       " ['2017-06-15', 6.833377271589259]]"
      ]
     },
     "execution_count": 11,
     "metadata": {},
     "output_type": "execute_result"
    }
   ],
   "source": [
    "predict(50)"
   ]
  },
  {
   "cell_type": "code",
   "execution_count": 12,
   "metadata": {
    "collapsed": false
   },
   "outputs": [
    {
     "name": "stderr",
     "output_type": "stream",
     "text": [
      "/Users/lingxiangyu/anaconda/lib/python2.7/site-packages/statsmodels/base/model.py:466: ConvergenceWarning: Maximum Likelihood optimization failed to converge. Check mle_retvals\n",
      "  \"Check mle_retvals\", ConvergenceWarning)\n"
     ]
    },
    {
     "data": {
      "text/plain": [
       "0.029025027074880014"
      ]
     },
     "execution_count": 12,
     "metadata": {},
     "output_type": "execute_result"
    }
   ],
   "source": [
    "accu(100)"
   ]
  },
  {
   "cell_type": "code",
   "execution_count": 13,
   "metadata": {
    "collapsed": false
   },
   "outputs": [
    {
     "data": {
      "text/plain": [
       "[['2017-04-26', 6.8646717155272885],\n",
       " ['2017-04-27', 6.847813818659736],\n",
       " ['2017-04-28', 6.850912662715539],\n",
       " ['2017-04-29', 6.850260027553502],\n",
       " ['2017-04-30', 6.8497946040967665],\n",
       " ['2017-05-01', 6.849497123904665],\n",
       " ['2017-05-02', 6.849121863861703],\n",
       " ['2017-05-03', 6.848766294928698],\n",
       " ['2017-05-04', 6.848408042196151],\n",
       " ['2017-05-05', 6.848049601849873],\n",
       " ['2017-05-06', 6.847691434809505],\n",
       " ['2017-05-07', 6.847333200080807],\n",
       " ['2017-05-08', 6.846975001573277],\n",
       " ['2017-05-09', 6.846616820514177],\n",
       " ['2017-05-10', 6.846258657573615],\n",
       " ['2017-05-11', 6.845900513694649],\n",
       " ['2017-05-12', 6.845542388463438],\n",
       " ['2017-05-13', 6.845184281979998],\n",
       " ['2017-05-14', 6.84482619423034],\n",
       " ['2017-05-15', 6.844468125212085],\n",
       " ['2017-05-16', 6.844110074925638],\n",
       " ['2017-05-17', 6.843752043369566],\n",
       " ['2017-05-18', 6.843394030542977],\n",
       " ['2017-05-19', 6.843036036444886],\n",
       " ['2017-05-20', 6.842678061074312],\n",
       " ['2017-05-21', 6.842320104430273],\n",
       " ['2017-05-22', 6.841962166511793],\n",
       " ['2017-05-23', 6.84160424731789],\n",
       " ['2017-05-24', 6.841246346847585],\n",
       " ['2017-05-25', 6.840888465099898],\n",
       " ['2017-05-26', 6.840530602073851],\n",
       " ['2017-05-27', 6.840172757768463],\n",
       " ['2017-05-28', 6.839814932182756],\n",
       " ['2017-05-29', 6.839457125315749],\n",
       " ['2017-05-30', 6.8390993371664655],\n",
       " ['2017-05-31', 6.838741567733924],\n",
       " ['2017-06-01', 6.838383817017147],\n",
       " ['2017-06-02', 6.838026085015152],\n",
       " ['2017-06-03', 6.8376683717269655],\n",
       " ['2017-06-04', 6.837310677151605],\n",
       " ['2017-06-05', 6.836953001288092],\n",
       " ['2017-06-06', 6.836595344135446],\n",
       " ['2017-06-07', 6.836237705692693],\n",
       " ['2017-06-08', 6.835880085958849],\n",
       " ['2017-06-09', 6.835522484932939],\n",
       " ['2017-06-10', 6.8351649026139825],\n",
       " ['2017-06-11', 6.834807339001001],\n",
       " ['2017-06-12', 6.8344497940930165],\n",
       " ['2017-06-13', 6.8340922678890506],\n",
       " ['2017-06-14', 6.833734760388124],\n",
       " ['2017-06-15', 6.833377271589259],\n",
       " ['2017-06-16', 6.833019801491476],\n",
       " ['2017-06-17', 6.8326623500938],\n",
       " ['2017-06-18', 6.832304917395248],\n",
       " ['2017-06-19', 6.831947503394847],\n",
       " ['2017-06-20', 6.831590108091613],\n",
       " ['2017-06-21', 6.831232731484574],\n",
       " ['2017-06-22', 6.830875373572748],\n",
       " ['2017-06-23', 6.830518034355158],\n",
       " ['2017-06-24', 6.830160713830825],\n",
       " ['2017-06-25', 6.829803411998774],\n",
       " ['2017-06-26', 6.829446128858024],\n",
       " ['2017-06-27', 6.8290888644076],\n",
       " ['2017-06-28', 6.828731618646521],\n",
       " ['2017-06-29', 6.828374391573813],\n",
       " ['2017-06-30', 6.8280171831884955],\n",
       " ['2017-07-01', 6.8276599934895925],\n",
       " ['2017-07-02', 6.827302822476125],\n",
       " ['2017-07-03', 6.826945670147118],\n",
       " ['2017-07-04', 6.826588536501591],\n",
       " ['2017-07-05', 6.826231421538569],\n",
       " ['2017-07-06', 6.825874325257073],\n",
       " ['2017-07-07', 6.825517247656127],\n",
       " ['2017-07-08', 6.8251601887347535],\n",
       " ['2017-07-09', 6.824803148491975],\n",
       " ['2017-07-10', 6.824446126926815],\n",
       " ['2017-07-11', 6.824089124038296],\n",
       " ['2017-07-12', 6.82373213982544],\n",
       " ['2017-07-13', 6.823375174287271],\n",
       " ['2017-07-14', 6.823018227422812],\n",
       " ['2017-07-15', 6.822661299231088],\n",
       " ['2017-07-16', 6.822304389711118],\n",
       " ['2017-07-17', 6.821947498861929],\n",
       " ['2017-07-18', 6.821590626682542],\n",
       " ['2017-07-19', 6.821233773171983],\n",
       " ['2017-07-20', 6.820876938329271],\n",
       " ['2017-07-21', 6.820520122153435],\n",
       " ['2017-07-22', 6.8201633246434925],\n",
       " ['2017-07-23', 6.819806545798473],\n",
       " ['2017-07-24', 6.819449785617395],\n",
       " ['2017-07-25', 6.819093044099286],\n",
       " ['2017-07-26', 6.818736321243166],\n",
       " ['2017-07-27', 6.818379617048063],\n",
       " ['2017-07-28', 6.8180229315129965],\n",
       " ['2017-07-29', 6.817666264636994],\n",
       " ['2017-07-30', 6.8173096164190765],\n",
       " ['2017-07-31', 6.816952986858271],\n",
       " ['2017-08-01', 6.816596375953599],\n",
       " ['2017-08-02', 6.816239783704085],\n",
       " ['2017-08-03', 6.815883210108753],\n",
       " ['2017-08-04', 6.815526655166629]]"
      ]
     },
     "execution_count": 13,
     "metadata": {},
     "output_type": "execute_result"
    }
   ],
   "source": [
    "predict(100)"
   ]
  },
  {
   "cell_type": "code",
   "execution_count": null,
   "metadata": {
    "collapsed": true
   },
   "outputs": [],
   "source": []
  }
 ],
 "metadata": {
  "anaconda-cloud": {},
  "kernelspec": {
   "display_name": "Python [conda root]",
   "language": "python",
   "name": "conda-root-py"
  },
  "language_info": {
   "codemirror_mode": {
    "name": "ipython",
    "version": 2
   },
   "file_extension": ".py",
   "mimetype": "text/x-python",
   "name": "python",
   "nbconvert_exporter": "python",
   "pygments_lexer": "ipython2",
   "version": "2.7.12"
  }
 },
 "nbformat": 4,
 "nbformat_minor": 2
}
